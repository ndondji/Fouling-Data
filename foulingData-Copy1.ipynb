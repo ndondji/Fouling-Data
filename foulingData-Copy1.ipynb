{
 "cells": [
  {
   "cell_type": "code",
   "execution_count": 1,
   "metadata": {},
   "outputs": [],
   "source": [
    "import os\n",
    "import pandas as pd"
   ]
  },
  {
   "cell_type": "code",
   "execution_count": 2,
   "metadata": {},
   "outputs": [],
   "source": [
    "lyingFoulingDataPath = \"/home/steve/Desktop/mnt/DATA/svenja_data/\""
   ]
  },
  {
   "cell_type": "code",
   "execution_count": 3,
   "metadata": {},
   "outputs": [],
   "source": [
    "# This function reads the lyingbehaviour_fouling.xlsx data\n",
    "# The data will be split by pens\n",
    "# Arguments:\n",
    "#    path: where the excel file is \n",
    "#    lyingFouling: we are reading lying or fouling data \n",
    "#                  (value is either \"lying\" or \"fouling\")\n",
    "#    column: which columns do we want to read \n",
    "#            A:D,E: pen 01\n",
    "#            A:D,F: pen 02/05\n",
    "#            A:D,G: pen 03/04\n",
    "#    pen: defining the pen name (possible values: \n",
    "#                               'C101', 'C103', 'C105', 'C201', 'C203', 'C205')\n",
    "\n",
    "def readLyingFoulingData (path, lyingFouling, column, pen):\n",
    "    df = pd.DataFrame()\n",
    "    for file in os.listdir(path):\n",
    "        filename = os.fsdecode(file)\n",
    "        if filename.endswith(\".xlsx\") and filename.startswith(\"lyingbehaviour\"):\n",
    "            data = pd.read_excel(path + filename, \n",
    "                                 \"C1&C2_\" + lyingFouling, \n",
    "                                 usecols = column)\n",
    "            data = data.dropna()\n",
    "            data.rename(columns={ data.columns[4]: lyingFouling }, inplace=True)\n",
    "            data.columns = data.columns.str.replace(' ', '_')\n",
    "            room = pen[0:2]\n",
    "            data = data[data.room == room]\n",
    "            data=data.rename({})\n",
    "            data[\"pen\"] = pen\n",
    "            df = df.append(data)\n",
    "    return df \n"
   ]
  },
  {
   "cell_type": "code",
   "execution_count": 4,
   "metadata": {},
   "outputs": [],
   "source": [
    "# Saving lying and fouling data for each pen separately\n",
    "lyingData_C101 =  readLyingFoulingData(lyingFoulingDataPath, \"lying\", \"A:D,E\", \"C101\")\n",
    "lyingData_C105 =  readLyingFoulingData(lyingFoulingDataPath, \"lying\", \"A:D,F\", \"C105\")\n",
    "lyingData_C103 =  readLyingFoulingData(lyingFoulingDataPath, \"lying\", \"A:D,G\", \"C103\")\n",
    "lyingData_C201 =  readLyingFoulingData(lyingFoulingDataPath, \"lying\", \"A:D,E\", \"C201\")\n",
    "lyingData_C205 =  readLyingFoulingData(lyingFoulingDataPath, \"lying\", \"A:D,F\", \"C205\")\n",
    "lyingData_C203 =  readLyingFoulingData(lyingFoulingDataPath, \"lying\", \"A:D,G\", \"C203\")\n",
    "foulingData_C101 =  readLyingFoulingData(lyingFoulingDataPath, \"fouling\", \"A:D,E\", \"C101\")\n",
    "foulingData_C105 =  readLyingFoulingData(lyingFoulingDataPath, \"fouling\", \"A:D,F\", \"C105\")\n",
    "foulingData_C103 =  readLyingFoulingData(lyingFoulingDataPath, \"fouling\", \"A:D,G\", \"C103\")\n",
    "foulingData_C201 =  readLyingFoulingData(lyingFoulingDataPath, \"fouling\", \"A:D,E\", \"C201\")\n",
    "foulingData_C205 =  readLyingFoulingData(lyingFoulingDataPath, \"fouling\", \"A:D,F\", \"C205\")\n",
    "foulingData_C203 =  readLyingFoulingData(lyingFoulingDataPath, \"fouling\", \"A:D,G\", \"C203\")"
   ]
  },
  {
   "cell_type": "code",
   "execution_count": 5,
   "metadata": {},
   "outputs": [
    {
     "data": {
      "text/html": [
       "<div>\n",
       "<style scoped>\n",
       "    .dataframe tbody tr th:only-of-type {\n",
       "        vertical-align: middle;\n",
       "    }\n",
       "\n",
       "    .dataframe tbody tr th {\n",
       "        vertical-align: top;\n",
       "    }\n",
       "\n",
       "    .dataframe thead th {\n",
       "        text-align: right;\n",
       "    }\n",
       "</style>\n",
       "<table border=\"1\" class=\"dataframe\">\n",
       "  <thead>\n",
       "    <tr style=\"text-align: right;\">\n",
       "      <th></th>\n",
       "      <th>room</th>\n",
       "      <th>period</th>\n",
       "      <th>day_of_observation</th>\n",
       "      <th>time_of_day</th>\n",
       "      <th>lying</th>\n",
       "      <th>pen</th>\n",
       "    </tr>\n",
       "  </thead>\n",
       "  <tbody>\n",
       "    <tr>\n",
       "      <th>0</th>\n",
       "      <td>C1</td>\n",
       "      <td>3</td>\n",
       "      <td>2018-05-31</td>\n",
       "      <td>morning</td>\n",
       "      <td>55.555556</td>\n",
       "      <td>C101</td>\n",
       "    </tr>\n",
       "    <tr>\n",
       "      <th>1</th>\n",
       "      <td>C1</td>\n",
       "      <td>3</td>\n",
       "      <td>2018-05-31</td>\n",
       "      <td>noon</td>\n",
       "      <td>50.000000</td>\n",
       "      <td>C101</td>\n",
       "    </tr>\n",
       "    <tr>\n",
       "      <th>2</th>\n",
       "      <td>C1</td>\n",
       "      <td>3</td>\n",
       "      <td>2018-05-31</td>\n",
       "      <td>evening</td>\n",
       "      <td>66.666667</td>\n",
       "      <td>C101</td>\n",
       "    </tr>\n",
       "    <tr>\n",
       "      <th>3</th>\n",
       "      <td>C1</td>\n",
       "      <td>3</td>\n",
       "      <td>2018-06-02</td>\n",
       "      <td>morning</td>\n",
       "      <td>61.111111</td>\n",
       "      <td>C101</td>\n",
       "    </tr>\n",
       "    <tr>\n",
       "      <th>4</th>\n",
       "      <td>C1</td>\n",
       "      <td>3</td>\n",
       "      <td>2018-06-02</td>\n",
       "      <td>noon</td>\n",
       "      <td>64.705882</td>\n",
       "      <td>C101</td>\n",
       "    </tr>\n",
       "  </tbody>\n",
       "</table>\n",
       "</div>"
      ],
      "text/plain": [
       "  room  period day_of_observation time_of_day      lying   pen\n",
       "0   C1       3         2018-05-31     morning  55.555556  C101\n",
       "1   C1       3         2018-05-31        noon  50.000000  C101\n",
       "2   C1       3         2018-05-31     evening  66.666667  C101\n",
       "3   C1       3         2018-06-02     morning  61.111111  C101\n",
       "4   C1       3         2018-06-02        noon  64.705882  C101"
      ]
     },
     "execution_count": 5,
     "metadata": {},
     "output_type": "execute_result"
    }
   ],
   "source": [
    "# Test\n",
    "lyingData_C101.head()"
   ]
  },
  {
   "cell_type": "code",
   "execution_count": 6,
   "metadata": {},
   "outputs": [
    {
     "name": "stdout",
     "output_type": "stream",
     "text": [
      "<class 'pandas.core.frame.DataFrame'>\n",
      "Int64Index: 228 entries, 0 to 341\n",
      "Data columns (total 6 columns):\n",
      "room                  228 non-null object\n",
      "period                228 non-null int64\n",
      "day_of_observation    228 non-null datetime64[ns]\n",
      "time_of_day           228 non-null object\n",
      "lying                 228 non-null float64\n",
      "pen                   228 non-null object\n",
      "dtypes: datetime64[ns](1), float64(1), int64(1), object(3)\n",
      "memory usage: 12.5+ KB\n"
     ]
    }
   ],
   "source": [
    "lyingData_C101.info()"
   ]
  },
  {
   "cell_type": "code",
   "execution_count": 7,
   "metadata": {},
   "outputs": [],
   "source": [
    "# Merge all lying data into one data frame\n",
    "lyingDataAll = pd.DataFrame()\n",
    "lyingDataAll = lyingDataAll.append(lyingData_C101)\n",
    "lyingDataAll = lyingDataAll.append(lyingData_C103)\n",
    "lyingDataAll = lyingDataAll.append(lyingData_C105)\n",
    "lyingDataAll = lyingDataAll.append(lyingData_C201)\n",
    "lyingDataAll = lyingDataAll.append(lyingData_C203)\n",
    "lyingDataAll = lyingDataAll.append(lyingData_C205)\n",
    "lyingDataAll = lyingDataAll.reset_index(drop=True)"
   ]
  },
  {
   "cell_type": "code",
   "execution_count": 8,
   "metadata": {},
   "outputs": [],
   "source": [
    "# Merge all fouling data into one data frame\n",
    "foulingDataAll = pd.DataFrame()\n",
    "foulingDataAll = foulingDataAll.append(foulingData_C101)\n",
    "foulingDataAll = foulingDataAll.append(foulingData_C103)\n",
    "foulingDataAll = foulingDataAll.append(foulingData_C105)\n",
    "foulingDataAll = foulingDataAll.append(foulingData_C201)\n",
    "foulingDataAll = foulingDataAll.append(foulingData_C203)\n",
    "foulingDataAll = foulingDataAll.append(foulingData_C205)\n",
    "foulingDataAll = foulingDataAll.reset_index(drop=True)"
   ]
  },
  {
   "cell_type": "code",
   "execution_count": 9,
   "metadata": {},
   "outputs": [
    {
     "data": {
      "text/html": [
       "<div>\n",
       "<style scoped>\n",
       "    .dataframe tbody tr th:only-of-type {\n",
       "        vertical-align: middle;\n",
       "    }\n",
       "\n",
       "    .dataframe tbody tr th {\n",
       "        vertical-align: top;\n",
       "    }\n",
       "\n",
       "    .dataframe thead th {\n",
       "        text-align: right;\n",
       "    }\n",
       "</style>\n",
       "<table border=\"1\" class=\"dataframe\">\n",
       "  <thead>\n",
       "    <tr style=\"text-align: right;\">\n",
       "      <th></th>\n",
       "      <th>room</th>\n",
       "      <th>period</th>\n",
       "      <th>day_of_observation</th>\n",
       "      <th>time_of_day</th>\n",
       "      <th>lying</th>\n",
       "      <th>pen</th>\n",
       "    </tr>\n",
       "  </thead>\n",
       "  <tbody>\n",
       "    <tr>\n",
       "      <th>340</th>\n",
       "      <td>C1</td>\n",
       "      <td>3</td>\n",
       "      <td>2018-08-25</td>\n",
       "      <td>noon</td>\n",
       "      <td>42.857143</td>\n",
       "      <td>C103</td>\n",
       "    </tr>\n",
       "    <tr>\n",
       "      <th>341</th>\n",
       "      <td>C1</td>\n",
       "      <td>3</td>\n",
       "      <td>2018-08-25</td>\n",
       "      <td>evening</td>\n",
       "      <td>50.000000</td>\n",
       "      <td>C103</td>\n",
       "    </tr>\n",
       "    <tr>\n",
       "      <th>342</th>\n",
       "      <td>C1</td>\n",
       "      <td>4</td>\n",
       "      <td>2018-10-04</td>\n",
       "      <td>morning</td>\n",
       "      <td>77.777778</td>\n",
       "      <td>C103</td>\n",
       "    </tr>\n",
       "    <tr>\n",
       "      <th>343</th>\n",
       "      <td>C1</td>\n",
       "      <td>4</td>\n",
       "      <td>2018-10-04</td>\n",
       "      <td>noon</td>\n",
       "      <td>47.058824</td>\n",
       "      <td>C103</td>\n",
       "    </tr>\n",
       "    <tr>\n",
       "      <th>344</th>\n",
       "      <td>C1</td>\n",
       "      <td>4</td>\n",
       "      <td>2018-10-04</td>\n",
       "      <td>evening</td>\n",
       "      <td>44.444444</td>\n",
       "      <td>C103</td>\n",
       "    </tr>\n",
       "    <tr>\n",
       "      <th>345</th>\n",
       "      <td>C1</td>\n",
       "      <td>4</td>\n",
       "      <td>2018-10-06</td>\n",
       "      <td>morning</td>\n",
       "      <td>66.666667</td>\n",
       "      <td>C103</td>\n",
       "    </tr>\n",
       "    <tr>\n",
       "      <th>346</th>\n",
       "      <td>C1</td>\n",
       "      <td>4</td>\n",
       "      <td>2018-10-06</td>\n",
       "      <td>noon</td>\n",
       "      <td>58.823529</td>\n",
       "      <td>C103</td>\n",
       "    </tr>\n",
       "    <tr>\n",
       "      <th>347</th>\n",
       "      <td>C1</td>\n",
       "      <td>4</td>\n",
       "      <td>2018-10-06</td>\n",
       "      <td>evening</td>\n",
       "      <td>50.000000</td>\n",
       "      <td>C103</td>\n",
       "    </tr>\n",
       "    <tr>\n",
       "      <th>348</th>\n",
       "      <td>C1</td>\n",
       "      <td>4</td>\n",
       "      <td>2018-10-09</td>\n",
       "      <td>morning</td>\n",
       "      <td>66.666667</td>\n",
       "      <td>C103</td>\n",
       "    </tr>\n",
       "    <tr>\n",
       "      <th>349</th>\n",
       "      <td>C1</td>\n",
       "      <td>4</td>\n",
       "      <td>2018-10-09</td>\n",
       "      <td>noon</td>\n",
       "      <td>38.888889</td>\n",
       "      <td>C103</td>\n",
       "    </tr>\n",
       "  </tbody>\n",
       "</table>\n",
       "</div>"
      ],
      "text/plain": [
       "    room  period day_of_observation time_of_day      lying   pen\n",
       "340   C1       3         2018-08-25        noon  42.857143  C103\n",
       "341   C1       3         2018-08-25     evening  50.000000  C103\n",
       "342   C1       4         2018-10-04     morning  77.777778  C103\n",
       "343   C1       4         2018-10-04        noon  47.058824  C103\n",
       "344   C1       4         2018-10-04     evening  44.444444  C103\n",
       "345   C1       4         2018-10-06     morning  66.666667  C103\n",
       "346   C1       4         2018-10-06        noon  58.823529  C103\n",
       "347   C1       4         2018-10-06     evening  50.000000  C103\n",
       "348   C1       4         2018-10-09     morning  66.666667  C103\n",
       "349   C1       4         2018-10-09        noon  38.888889  C103"
      ]
     },
     "execution_count": 9,
     "metadata": {},
     "output_type": "execute_result"
    }
   ],
   "source": [
    "# Test for index has been reset\n",
    "lyingDataAll[340:350]"
   ]
  },
  {
   "cell_type": "code",
   "execution_count": 10,
   "metadata": {},
   "outputs": [
    {
     "name": "stdout",
     "output_type": "stream",
     "text": [
      "['C1' 'C2']\n",
      "['C101' 'C103' 'C105' 'C201' 'C203' 'C205']\n"
     ]
    }
   ],
   "source": [
    "# Unique values for \"room\" and \"pen\" in the lying data\n",
    "print(lyingDataAll.room.unique())\n",
    "print(lyingDataAll.pen.unique())"
   ]
  },
  {
   "cell_type": "code",
   "execution_count": 11,
   "metadata": {
    "scrolled": true
   },
   "outputs": [
    {
     "data": {
      "text/html": [
       "<div>\n",
       "<style scoped>\n",
       "    .dataframe tbody tr th:only-of-type {\n",
       "        vertical-align: middle;\n",
       "    }\n",
       "\n",
       "    .dataframe tbody tr th {\n",
       "        vertical-align: top;\n",
       "    }\n",
       "\n",
       "    .dataframe thead th {\n",
       "        text-align: right;\n",
       "    }\n",
       "</style>\n",
       "<table border=\"1\" class=\"dataframe\">\n",
       "  <thead>\n",
       "    <tr style=\"text-align: right;\">\n",
       "      <th></th>\n",
       "      <th>room</th>\n",
       "      <th>period</th>\n",
       "      <th>fattening_week</th>\n",
       "      <th>day_of_observation</th>\n",
       "      <th>fouling</th>\n",
       "      <th>pen</th>\n",
       "    </tr>\n",
       "  </thead>\n",
       "  <tbody>\n",
       "    <tr>\n",
       "      <th>0</th>\n",
       "      <td>C1</td>\n",
       "      <td>3</td>\n",
       "      <td>2</td>\n",
       "      <td>2018-06-07 00:00:00</td>\n",
       "      <td>0.500000</td>\n",
       "      <td>C101</td>\n",
       "    </tr>\n",
       "    <tr>\n",
       "      <th>1</th>\n",
       "      <td>C1</td>\n",
       "      <td>3</td>\n",
       "      <td>3</td>\n",
       "      <td>2018-06-14 00:00:00</td>\n",
       "      <td>1.000000</td>\n",
       "      <td>C101</td>\n",
       "    </tr>\n",
       "    <tr>\n",
       "      <th>2</th>\n",
       "      <td>C1</td>\n",
       "      <td>3</td>\n",
       "      <td>4</td>\n",
       "      <td>2018-06-21 00:00:00</td>\n",
       "      <td>1.333333</td>\n",
       "      <td>C101</td>\n",
       "    </tr>\n",
       "    <tr>\n",
       "      <th>3</th>\n",
       "      <td>C1</td>\n",
       "      <td>3</td>\n",
       "      <td>5</td>\n",
       "      <td>2018-06-28 00:00:00</td>\n",
       "      <td>0.833333</td>\n",
       "      <td>C101</td>\n",
       "    </tr>\n",
       "    <tr>\n",
       "      <th>4</th>\n",
       "      <td>C1</td>\n",
       "      <td>3</td>\n",
       "      <td>6</td>\n",
       "      <td>2018-07-05 00:00:00</td>\n",
       "      <td>1.000000</td>\n",
       "      <td>C101</td>\n",
       "    </tr>\n",
       "  </tbody>\n",
       "</table>\n",
       "</div>"
      ],
      "text/plain": [
       "  room  period  fattening_week   day_of_observation   fouling   pen\n",
       "0   C1       3               2  2018-06-07 00:00:00  0.500000  C101\n",
       "1   C1       3               3  2018-06-14 00:00:00  1.000000  C101\n",
       "2   C1       3               4  2018-06-21 00:00:00  1.333333  C101\n",
       "3   C1       3               5  2018-06-28 00:00:00  0.833333  C101\n",
       "4   C1       3               6  2018-07-05 00:00:00  1.000000  C101"
      ]
     },
     "execution_count": 11,
     "metadata": {},
     "output_type": "execute_result"
    }
   ],
   "source": [
    "foulingDataAll.head()"
   ]
  },
  {
   "cell_type": "code",
   "execution_count": 12,
   "metadata": {},
   "outputs": [
    {
     "name": "stdout",
     "output_type": "stream",
     "text": [
      "<class 'pandas.core.frame.DataFrame'>\n",
      "RangeIndex: 150 entries, 0 to 149\n",
      "Data columns (total 6 columns):\n",
      "room                  150 non-null object\n",
      "period                150 non-null int64\n",
      "fattening_week        150 non-null int64\n",
      "day_of_observation    150 non-null object\n",
      "fouling               150 non-null float64\n",
      "pen                   150 non-null object\n",
      "dtypes: float64(1), int64(2), object(3)\n",
      "memory usage: 7.1+ KB\n"
     ]
    }
   ],
   "source": [
    "foulingDataAll.info()"
   ]
  },
  {
   "cell_type": "code",
   "execution_count": 13,
   "metadata": {},
   "outputs": [
    {
     "name": "stdout",
     "output_type": "stream",
     "text": [
      "['C1' 'C2']\n",
      "['C101' 'C103' 'C105' 'C201' 'C203' 'C205']\n"
     ]
    }
   ],
   "source": [
    "# Unique values for \"room\" and \"pen\" in the fouling data\n",
    "print(foulingDataAll.room.unique())\n",
    "print(foulingDataAll.pen.unique())"
   ]
  },
  {
   "cell_type": "code",
   "execution_count": 14,
   "metadata": {},
   "outputs": [],
   "source": [
    "# This function is used to create a new column with time values\n",
    "# \"morning\" -> \"08:00\"\n",
    "# \"noon\" -> \"12:00\"\n",
    "# \"evening\" -> \"18:00\"\n",
    "def timeOfTheDay(section):\n",
    "    if section == \"morning\":\n",
    "        return \"08:00\"\n",
    "    elif section == \"noon\":\n",
    "        return \"12:00\"\n",
    "    elif section == \"evening\":\n",
    "        return \"18:00\"\n",
    "    else:\n",
    "        return \"00:00\"\n",
    "    \n",
    "lyingDataAll[\"time\"] = lyingDataAll.apply(\n",
    "    lambda row: timeOfTheDay(row.time_of_day), axis  = 1) "
   ]
  },
  {
   "cell_type": "code",
   "execution_count": 15,
   "metadata": {},
   "outputs": [
    {
     "data": {
      "text/html": [
       "<div>\n",
       "<style scoped>\n",
       "    .dataframe tbody tr th:only-of-type {\n",
       "        vertical-align: middle;\n",
       "    }\n",
       "\n",
       "    .dataframe tbody tr th {\n",
       "        vertical-align: top;\n",
       "    }\n",
       "\n",
       "    .dataframe thead th {\n",
       "        text-align: right;\n",
       "    }\n",
       "</style>\n",
       "<table border=\"1\" class=\"dataframe\">\n",
       "  <thead>\n",
       "    <tr style=\"text-align: right;\">\n",
       "      <th></th>\n",
       "      <th>room</th>\n",
       "      <th>period</th>\n",
       "      <th>day_of_observation</th>\n",
       "      <th>time_of_day</th>\n",
       "      <th>lying</th>\n",
       "      <th>pen</th>\n",
       "      <th>time</th>\n",
       "    </tr>\n",
       "  </thead>\n",
       "  <tbody>\n",
       "    <tr>\n",
       "      <th>0</th>\n",
       "      <td>C1</td>\n",
       "      <td>3</td>\n",
       "      <td>2018-05-31</td>\n",
       "      <td>morning</td>\n",
       "      <td>55.555556</td>\n",
       "      <td>C101</td>\n",
       "      <td>08:00</td>\n",
       "    </tr>\n",
       "    <tr>\n",
       "      <th>1</th>\n",
       "      <td>C1</td>\n",
       "      <td>3</td>\n",
       "      <td>2018-05-31</td>\n",
       "      <td>noon</td>\n",
       "      <td>50.000000</td>\n",
       "      <td>C101</td>\n",
       "      <td>12:00</td>\n",
       "    </tr>\n",
       "    <tr>\n",
       "      <th>2</th>\n",
       "      <td>C1</td>\n",
       "      <td>3</td>\n",
       "      <td>2018-05-31</td>\n",
       "      <td>evening</td>\n",
       "      <td>66.666667</td>\n",
       "      <td>C101</td>\n",
       "      <td>18:00</td>\n",
       "    </tr>\n",
       "    <tr>\n",
       "      <th>3</th>\n",
       "      <td>C1</td>\n",
       "      <td>3</td>\n",
       "      <td>2018-06-02</td>\n",
       "      <td>morning</td>\n",
       "      <td>61.111111</td>\n",
       "      <td>C101</td>\n",
       "      <td>08:00</td>\n",
       "    </tr>\n",
       "    <tr>\n",
       "      <th>4</th>\n",
       "      <td>C1</td>\n",
       "      <td>3</td>\n",
       "      <td>2018-06-02</td>\n",
       "      <td>noon</td>\n",
       "      <td>64.705882</td>\n",
       "      <td>C101</td>\n",
       "      <td>12:00</td>\n",
       "    </tr>\n",
       "  </tbody>\n",
       "</table>\n",
       "</div>"
      ],
      "text/plain": [
       "  room  period day_of_observation time_of_day      lying   pen   time\n",
       "0   C1       3         2018-05-31     morning  55.555556  C101  08:00\n",
       "1   C1       3         2018-05-31        noon  50.000000  C101  12:00\n",
       "2   C1       3         2018-05-31     evening  66.666667  C101  18:00\n",
       "3   C1       3         2018-06-02     morning  61.111111  C101  08:00\n",
       "4   C1       3         2018-06-02        noon  64.705882  C101  12:00"
      ]
     },
     "execution_count": 15,
     "metadata": {},
     "output_type": "execute_result"
    }
   ],
   "source": [
    "# Test\n",
    "lyingDataAll.head()"
   ]
  },
  {
   "cell_type": "code",
   "execution_count": 16,
   "metadata": {
    "scrolled": true
   },
   "outputs": [
    {
     "data": {
      "text/html": [
       "<div>\n",
       "<style scoped>\n",
       "    .dataframe tbody tr th:only-of-type {\n",
       "        vertical-align: middle;\n",
       "    }\n",
       "\n",
       "    .dataframe tbody tr th {\n",
       "        vertical-align: top;\n",
       "    }\n",
       "\n",
       "    .dataframe thead th {\n",
       "        text-align: right;\n",
       "    }\n",
       "</style>\n",
       "<table border=\"1\" class=\"dataframe\">\n",
       "  <thead>\n",
       "    <tr style=\"text-align: right;\">\n",
       "      <th></th>\n",
       "      <th>room</th>\n",
       "      <th>period</th>\n",
       "      <th>day_of_observation</th>\n",
       "      <th>time_of_day</th>\n",
       "      <th>lying</th>\n",
       "      <th>pen</th>\n",
       "      <th>time</th>\n",
       "      <th>datetime</th>\n",
       "    </tr>\n",
       "  </thead>\n",
       "  <tbody>\n",
       "    <tr>\n",
       "      <th>0</th>\n",
       "      <td>C1</td>\n",
       "      <td>3</td>\n",
       "      <td>2018-05-31</td>\n",
       "      <td>morning</td>\n",
       "      <td>55.555556</td>\n",
       "      <td>C101</td>\n",
       "      <td>08:00</td>\n",
       "      <td>2018-05-31 08:00:00</td>\n",
       "    </tr>\n",
       "    <tr>\n",
       "      <th>1</th>\n",
       "      <td>C1</td>\n",
       "      <td>3</td>\n",
       "      <td>2018-05-31</td>\n",
       "      <td>noon</td>\n",
       "      <td>50.000000</td>\n",
       "      <td>C101</td>\n",
       "      <td>12:00</td>\n",
       "      <td>2018-05-31 12:00:00</td>\n",
       "    </tr>\n",
       "  </tbody>\n",
       "</table>\n",
       "</div>"
      ],
      "text/plain": [
       "  room  period day_of_observation time_of_day      lying   pen   time  \\\n",
       "0   C1       3         2018-05-31     morning  55.555556  C101  08:00   \n",
       "1   C1       3         2018-05-31        noon  50.000000  C101  12:00   \n",
       "\n",
       "             datetime  \n",
       "0 2018-05-31 08:00:00  \n",
       "1 2018-05-31 12:00:00  "
      ]
     },
     "execution_count": 16,
     "metadata": {},
     "output_type": "execute_result"
    }
   ],
   "source": [
    "# Create a new column with date and time values combined\n",
    "# Data type is datetime64[ns]\n",
    "lyingDataAll[\"datetime\"] = lyingDataAll.apply(\n",
    "    lambda row: pd.to_datetime(row.day_of_observation.strftime(\"%Y-%m-%d\") + row.time, \n",
    "                               format='%Y-%m-%d%H:%M'), axis = 1)\n",
    "lyingDataAll.head(2)"
   ]
  },
  {
   "cell_type": "code",
   "execution_count": 17,
   "metadata": {},
   "outputs": [
    {
     "name": "stdout",
     "output_type": "stream",
     "text": [
      "<class 'pandas.core.frame.DataFrame'>\n",
      "RangeIndex: 1368 entries, 0 to 1367\n",
      "Data columns (total 8 columns):\n",
      "room                  1368 non-null object\n",
      "period                1368 non-null int64\n",
      "day_of_observation    1368 non-null datetime64[ns]\n",
      "time_of_day           1368 non-null object\n",
      "lying                 1368 non-null float64\n",
      "pen                   1368 non-null object\n",
      "time                  1368 non-null object\n",
      "datetime              1368 non-null datetime64[ns]\n",
      "dtypes: datetime64[ns](2), float64(1), int64(1), object(4)\n",
      "memory usage: 85.6+ KB\n"
     ]
    }
   ],
   "source": [
    "lyingDataAll.info()"
   ]
  },
  {
   "cell_type": "code",
   "execution_count": 18,
   "metadata": {
    "scrolled": true
   },
   "outputs": [
    {
     "data": {
      "text/html": [
       "<div>\n",
       "<style scoped>\n",
       "    .dataframe tbody tr th:only-of-type {\n",
       "        vertical-align: middle;\n",
       "    }\n",
       "\n",
       "    .dataframe tbody tr th {\n",
       "        vertical-align: top;\n",
       "    }\n",
       "\n",
       "    .dataframe thead th {\n",
       "        text-align: right;\n",
       "    }\n",
       "</style>\n",
       "<table border=\"1\" class=\"dataframe\">\n",
       "  <thead>\n",
       "    <tr style=\"text-align: right;\">\n",
       "      <th></th>\n",
       "      <th>room</th>\n",
       "      <th>period</th>\n",
       "      <th>fattening_week</th>\n",
       "      <th>day_of_observation</th>\n",
       "      <th>fouling</th>\n",
       "      <th>pen</th>\n",
       "    </tr>\n",
       "  </thead>\n",
       "  <tbody>\n",
       "    <tr>\n",
       "      <th>0</th>\n",
       "      <td>C1</td>\n",
       "      <td>3</td>\n",
       "      <td>2</td>\n",
       "      <td>2018-06-07 00:00:00</td>\n",
       "      <td>0.5</td>\n",
       "      <td>C101</td>\n",
       "    </tr>\n",
       "    <tr>\n",
       "      <th>1</th>\n",
       "      <td>C1</td>\n",
       "      <td>3</td>\n",
       "      <td>3</td>\n",
       "      <td>2018-06-14 00:00:00</td>\n",
       "      <td>1.0</td>\n",
       "      <td>C101</td>\n",
       "    </tr>\n",
       "  </tbody>\n",
       "</table>\n",
       "</div>"
      ],
      "text/plain": [
       "  room  period  fattening_week   day_of_observation  fouling   pen\n",
       "0   C1       3               2  2018-06-07 00:00:00      0.5  C101\n",
       "1   C1       3               3  2018-06-14 00:00:00      1.0  C101"
      ]
     },
     "execution_count": 18,
     "metadata": {},
     "output_type": "execute_result"
    }
   ],
   "source": [
    "foulingDataAll.head(2)"
   ]
  },
  {
   "cell_type": "code",
   "execution_count": 19,
   "metadata": {},
   "outputs": [
    {
     "name": "stdout",
     "output_type": "stream",
     "text": [
      "<class 'pandas.core.frame.DataFrame'>\n",
      "RangeIndex: 150 entries, 0 to 149\n",
      "Data columns (total 6 columns):\n",
      "room                  150 non-null object\n",
      "period                150 non-null int64\n",
      "fattening_week        150 non-null int64\n",
      "day_of_observation    150 non-null object\n",
      "fouling               150 non-null float64\n",
      "pen                   150 non-null object\n",
      "dtypes: float64(1), int64(2), object(3)\n",
      "memory usage: 7.1+ KB\n"
     ]
    }
   ],
   "source": [
    "foulingDataAll.info()"
   ]
  },
  {
   "cell_type": "code",
   "execution_count": 20,
   "metadata": {
    "scrolled": true
   },
   "outputs": [
    {
     "data": {
      "text/html": [
       "<div>\n",
       "<style scoped>\n",
       "    .dataframe tbody tr th:only-of-type {\n",
       "        vertical-align: middle;\n",
       "    }\n",
       "\n",
       "    .dataframe tbody tr th {\n",
       "        vertical-align: top;\n",
       "    }\n",
       "\n",
       "    .dataframe thead th {\n",
       "        text-align: right;\n",
       "    }\n",
       "</style>\n",
       "<table border=\"1\" class=\"dataframe\">\n",
       "  <thead>\n",
       "    <tr style=\"text-align: right;\">\n",
       "      <th></th>\n",
       "      <th>room</th>\n",
       "      <th>period</th>\n",
       "      <th>fattening_week</th>\n",
       "      <th>day_of_observation</th>\n",
       "      <th>fouling</th>\n",
       "      <th>pen</th>\n",
       "      <th>datetime</th>\n",
       "    </tr>\n",
       "  </thead>\n",
       "  <tbody>\n",
       "    <tr>\n",
       "      <th>0</th>\n",
       "      <td>C1</td>\n",
       "      <td>3</td>\n",
       "      <td>2</td>\n",
       "      <td>2018-06-07 00:00:00</td>\n",
       "      <td>0.5</td>\n",
       "      <td>C101</td>\n",
       "      <td>2018-06-07</td>\n",
       "    </tr>\n",
       "    <tr>\n",
       "      <th>1</th>\n",
       "      <td>C1</td>\n",
       "      <td>3</td>\n",
       "      <td>3</td>\n",
       "      <td>2018-06-14 00:00:00</td>\n",
       "      <td>1.0</td>\n",
       "      <td>C101</td>\n",
       "      <td>2018-06-14</td>\n",
       "    </tr>\n",
       "  </tbody>\n",
       "</table>\n",
       "</div>"
      ],
      "text/plain": [
       "  room  period  fattening_week   day_of_observation  fouling   pen   datetime\n",
       "0   C1       3               2  2018-06-07 00:00:00      0.5  C101 2018-06-07\n",
       "1   C1       3               3  2018-06-14 00:00:00      1.0  C101 2018-06-14"
      ]
     },
     "execution_count": 20,
     "metadata": {},
     "output_type": "execute_result"
    }
   ],
   "source": [
    "# Create a new column with date values\n",
    "# Data type is datetime64[ns]\n",
    "foulingDataAll[\"datetime\"] = pd.to_datetime(foulingDataAll[\"day_of_observation\"])\n",
    "foulingDataAll.head(2)"
   ]
  },
  {
   "cell_type": "code",
   "execution_count": 21,
   "metadata": {},
   "outputs": [
    {
     "name": "stdout",
     "output_type": "stream",
     "text": [
      "<class 'pandas.core.frame.DataFrame'>\n",
      "RangeIndex: 150 entries, 0 to 149\n",
      "Data columns (total 7 columns):\n",
      "room                  150 non-null object\n",
      "period                150 non-null int64\n",
      "fattening_week        150 non-null int64\n",
      "day_of_observation    150 non-null object\n",
      "fouling               150 non-null float64\n",
      "pen                   150 non-null object\n",
      "datetime              150 non-null datetime64[ns]\n",
      "dtypes: datetime64[ns](1), float64(1), int64(2), object(3)\n",
      "memory usage: 8.3+ KB\n"
     ]
    }
   ],
   "source": [
    "foulingDataAll.info()"
   ]
  },
  {
   "cell_type": "code",
   "execution_count": null,
   "metadata": {},
   "outputs": [],
   "source": []
  },
  {
   "cell_type": "code",
   "execution_count": null,
   "metadata": {},
   "outputs": [],
   "source": []
  },
  {
   "cell_type": "code",
   "execution_count": null,
   "metadata": {},
   "outputs": [],
   "source": []
  },
  {
   "cell_type": "code",
   "execution_count": null,
   "metadata": {},
   "outputs": [],
   "source": []
  },
  {
   "cell_type": "code",
   "execution_count": null,
   "metadata": {},
   "outputs": [],
   "source": []
  }
 ],
 "metadata": {
  "kernelspec": {
   "display_name": "Python 3",
   "language": "python",
   "name": "python3"
  },
  "language_info": {
   "codemirror_mode": {
    "name": "ipython",
    "version": 3
   },
   "file_extension": ".py",
   "mimetype": "text/x-python",
   "name": "python",
   "nbconvert_exporter": "python",
   "pygments_lexer": "ipython3",
   "version": "3.6.7"
  }
 },
 "nbformat": 4,
 "nbformat_minor": 2
}
